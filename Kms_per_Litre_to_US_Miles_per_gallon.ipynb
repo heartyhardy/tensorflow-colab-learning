{
  "nbformat": 4,
  "nbformat_minor": 0,
  "metadata": {
    "colab": {
      "name": "Kms per Litre to US Miles per gallon",
      "provenance": [],
      "include_colab_link": true
    },
    "kernelspec": {
      "name": "python3",
      "display_name": "Python 3"
    }
  },
  "cells": [
    {
      "cell_type": "markdown",
      "metadata": {
        "id": "view-in-github",
        "colab_type": "text"
      },
      "source": [
        "<a href=\"https://colab.research.google.com/github/heartyhardy/tensorflow-colab-learning/blob/master/Kms_per_Litre_to_US_Miles_per_gallon.ipynb\" target=\"_parent\"><img src=\"https://colab.research.google.com/assets/colab-badge.svg\" alt=\"Open In Colab\"/></a>"
      ]
    },
    {
      "cell_type": "code",
      "metadata": {
        "colab_type": "code",
        "id": "X9uIpOS2zx7k",
        "colab": {}
      },
      "source": [
        "from __future__ import absolute_import, division, print_function, unicode_literals"
      ],
      "execution_count": 0,
      "outputs": []
    },
    {
      "cell_type": "code",
      "metadata": {
        "id": "gXmpFvp0Qlyc",
        "colab_type": "code",
        "colab": {}
      },
      "source": [
        "try:\n",
        "  %tensorflow_version 2.x\n",
        "except Exception:\n",
        "  pass\n",
        "\n",
        "import tensorflow as tf"
      ],
      "execution_count": 0,
      "outputs": []
    },
    {
      "cell_type": "code",
      "metadata": {
        "id": "qBGEWMNnQ6Ua",
        "colab_type": "code",
        "colab": {}
      },
      "source": [
        "import numpy as np\n",
        "import logging\n",
        "logger = tf.get_logger()\n",
        "logger.setLevel(logging.ERROR)"
      ],
      "execution_count": 0,
      "outputs": []
    },
    {
      "cell_type": "code",
      "metadata": {
        "id": "h1HMR6WGRfNv",
        "colab_type": "code",
        "colab": {
          "base_uri": "https://localhost:8080/",
          "height": 102
        },
        "outputId": "5f0cfec8-f91b-4987-ec4c-ab09df810b06"
      },
      "source": [
        "# Km per litre\n",
        "kmpl_q = np.array([1, 2, 3, 4, 5], dtype=float)\n",
        "# US Miles per gallon\n",
        "usmpg_a = np.array([2.35215, 4.70429, 7.05644, 9.40858, 11.7607], dtype=float)\n",
        "\n",
        "for i,e in enumerate(kmpl_q):\n",
        "  print(\"{} Km per litre = {} US Miles per gallon\".format(e, usmpg_a[i]))"
      ],
      "execution_count": 11,
      "outputs": [
        {
          "output_type": "stream",
          "text": [
            "1.0 Km per litre = 2.35215 US Miles per gallon\n",
            "2.0 Km per litre = 4.70429 US Miles per gallon\n",
            "3.0 Km per litre = 7.05644 US Miles per gallon\n",
            "4.0 Km per litre = 9.40858 US Miles per gallon\n",
            "5.0 Km per litre = 11.7607 US Miles per gallon\n"
          ],
          "name": "stdout"
        }
      ]
    },
    {
      "cell_type": "code",
      "metadata": {
        "id": "x9Zf2b83Sl8V",
        "colab_type": "code",
        "colab": {}
      },
      "source": [
        "l0 = tf.keras.layers.Dense(units=1, input_shape=[1])\n",
        "l1 = tf.keras.layers.Dense(units=4)\n",
        "l2 = tf.keras.layers.Dense(units=1)\n",
        "\n",
        "model = tf.keras.Sequential([l0,l1,l2])"
      ],
      "execution_count": 0,
      "outputs": []
    },
    {
      "cell_type": "code",
      "metadata": {
        "id": "2c7BEASGUaoZ",
        "colab_type": "code",
        "colab": {}
      },
      "source": [
        "model.compile(loss='mean_squared_error', optimizer=tf.keras.optimizers.Adam(0.1))"
      ],
      "execution_count": 0,
      "outputs": []
    },
    {
      "cell_type": "code",
      "metadata": {
        "id": "4y6JNdVLUxjQ",
        "colab_type": "code",
        "colab": {
          "base_uri": "https://localhost:8080/",
          "height": 51
        },
        "outputId": "14d22c04-d63b-452c-d0bb-2a8d8c709e02"
      },
      "source": [
        "print(\"Training model...Please wait\")\n",
        "model.fit(x=kmpl_q, y=usmpg_a, epochs=500, verbose=False)\n",
        "print(\"Model training completed!\")"
      ],
      "execution_count": 16,
      "outputs": [
        {
          "output_type": "stream",
          "text": [
            "Training model...Please wait\n",
            "Model training completed!\n"
          ],
          "name": "stdout"
        }
      ]
    },
    {
      "cell_type": "code",
      "metadata": {
        "id": "rZrrwrruVUKX",
        "colab_type": "code",
        "colab": {
          "base_uri": "https://localhost:8080/",
          "height": 187
        },
        "outputId": "896d321e-2ae9-4c3b-89e3-b448896645b9"
      },
      "source": [
        "for i in range(6,16):\n",
        "  print(\"Model predicts that {} Kms Per Litre equals to {} US Miles per gallon\".format(i, model.predict([i])[0][0]))"
      ],
      "execution_count": 27,
      "outputs": [
        {
          "output_type": "stream",
          "text": [
            "Model predicts that 6 Kms Per Litre equals to 14.112849235534668 US Miles per gallon\n",
            "Model predicts that 7 Kms Per Litre equals to 16.46498680114746 US Miles per gallon\n",
            "Model predicts that 8 Kms Per Litre equals to 18.81712532043457 US Miles per gallon\n",
            "Model predicts that 9 Kms Per Litre equals to 21.169265747070312 US Miles per gallon\n",
            "Model predicts that 10 Kms Per Litre equals to 23.52140235900879 US Miles per gallon\n",
            "Model predicts that 11 Kms Per Litre equals to 25.8735408782959 US Miles per gallon\n",
            "Model predicts that 12 Kms Per Litre equals to 28.22568130493164 US Miles per gallon\n",
            "Model predicts that 13 Kms Per Litre equals to 30.57781982421875 US Miles per gallon\n",
            "Model predicts that 14 Kms Per Litre equals to 32.92995834350586 US Miles per gallon\n",
            "Model predicts that 15 Kms Per Litre equals to 35.282100677490234 US Miles per gallon\n"
          ],
          "name": "stdout"
        }
      ]
    }
  ]
}