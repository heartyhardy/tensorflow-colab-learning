{
  "nbformat": 4,
  "nbformat_minor": 0,
  "metadata": {
    "colab": {
      "name": "Mass conversion(Kgs to Lbs)",
      "provenance": [],
      "collapsed_sections": [],
      "include_colab_link": true
    },
    "kernelspec": {
      "name": "python3",
      "display_name": "Python 3"
    }
  },
  "cells": [
    {
      "cell_type": "markdown",
      "metadata": {
        "id": "view-in-github",
        "colab_type": "text"
      },
      "source": [
        "<a href=\"https://colab.research.google.com/github/heartyhardy/tensorflow-colab-learning/blob/master/Mass_conversion(Kgs_to_Lbs).ipynb\" target=\"_parent\"><img src=\"https://colab.research.google.com/assets/colab-badge.svg\" alt=\"Open In Colab\"/></a>"
      ]
    },
    {
      "cell_type": "code",
      "metadata": {
        "id": "f7n-b1nX4l7a",
        "colab_type": "code",
        "colab": {}
      },
      "source": [
        "from __future__ import absolute_import, division, print_function, unicode_literals"
      ],
      "execution_count": 0,
      "outputs": []
    },
    {
      "cell_type": "code",
      "metadata": {
        "id": "oFOxUzya4r2S",
        "colab_type": "code",
        "colab": {
          "base_uri": "https://localhost:8080/",
          "height": 34
        },
        "outputId": "3a858b25-0581-4f64-b39f-ff18eb5da7bb"
      },
      "source": [
        "try:\n",
        "  %tensorflow_version 2.x\n",
        "except Exception:\n",
        "  pass\n",
        "\n",
        "import tensorflow as tf"
      ],
      "execution_count": 2,
      "outputs": [
        {
          "output_type": "stream",
          "text": [
            "TensorFlow 2.x selected.\n"
          ],
          "name": "stdout"
        }
      ]
    },
    {
      "cell_type": "code",
      "metadata": {
        "id": "R_qXT-dH5Hg-",
        "colab_type": "code",
        "colab": {}
      },
      "source": [
        "# import Numpy and Enable logging\n",
        "import numpy as np\n",
        "import logging\n",
        "logger = tf.get_logger()\n",
        "logger.setLevel(logging.ERROR)"
      ],
      "execution_count": 0,
      "outputs": []
    },
    {
      "cell_type": "code",
      "metadata": {
        "id": "66bCTXey6FTt",
        "colab_type": "code",
        "colab": {
          "base_uri": "https://localhost:8080/",
          "height": 102
        },
        "outputId": "bfc46436-ab25-450d-c0a3-68ec7834734c"
      },
      "source": [
        "# setup features and labels for the example\n",
        "kg_q = np.array([1, 2, 3, 4, 5], dtype=float)\n",
        "lbs_a = np.array([2.20462, 4.40925, 6.61387, 8.81849, 11.0231], dtype=float)\n",
        "\n",
        "for i,f in enumerate(kg_q):\n",
        "  print(\"{}Kgs = {}lbs\".format(i, lbs_a[i]))"
      ],
      "execution_count": 4,
      "outputs": [
        {
          "output_type": "stream",
          "text": [
            "0Kgs = 2.20462lbs\n",
            "1Kgs = 4.40925lbs\n",
            "2Kgs = 6.61387lbs\n",
            "3Kgs = 8.81849lbs\n",
            "4Kgs = 11.0231lbs\n"
          ],
          "name": "stdout"
        }
      ]
    },
    {
      "cell_type": "code",
      "metadata": {
        "id": "tWa-yVwY7MsD",
        "colab_type": "code",
        "colab": {}
      },
      "source": [
        "# create a simple model\n",
        "model = tf.keras.Sequential([\n",
        "  tf.keras.layers.Dense(units=1, input_shape=[1])\n",
        "])"
      ],
      "execution_count": 0,
      "outputs": []
    },
    {
      "cell_type": "code",
      "metadata": {
        "id": "5hq76x-37xke",
        "colab_type": "code",
        "colab": {}
      },
      "source": [
        "# compile the model\n",
        "model.compile(loss='mean_squared_error', optimizer=tf.keras.optimizers.Adam(0.1))"
      ],
      "execution_count": 0,
      "outputs": []
    },
    {
      "cell_type": "code",
      "metadata": {
        "id": "s8GtMjnS8PZ2",
        "colab_type": "code",
        "colab": {
          "base_uri": "https://localhost:8080/",
          "height": 34
        },
        "outputId": "d5cd03d6-7804-4261-8401-fac809444006"
      },
      "source": [
        "# Train the model\n",
        "history = model.fit(x=kg_q, y=lbs_a, epochs=500, verbose=False)\n",
        "print(\"Model is now Trained. Proceed with prediction.\")"
      ],
      "execution_count": 7,
      "outputs": [
        {
          "output_type": "stream",
          "text": [
            "Model is now Trained. Proceed with prediction.\n"
          ],
          "name": "stdout"
        }
      ]
    },
    {
      "cell_type": "code",
      "metadata": {
        "id": "LYohNKUb8rWK",
        "colab_type": "code",
        "colab": {
          "base_uri": "https://localhost:8080/",
          "height": 282
        },
        "outputId": "4755d839-69da-4ddc-8be7-e6ded3d0dd58"
      },
      "source": [
        "# Plotting the training process\n",
        "import matplotlib.pyplot as plt\n",
        "plt.xlabel=\"Epoch number\"\n",
        "plt.ylabel=\"Loss Magnitude\"\n",
        "plt.plot(history.history['loss'])"
      ],
      "execution_count": 8,
      "outputs": [
        {
          "output_type": "execute_result",
          "data": {
            "text/plain": [
              "[<matplotlib.lines.Line2D at 0x7f37732ed898>]"
            ]
          },
          "metadata": {
            "tags": []
          },
          "execution_count": 8
        },
        {
          "output_type": "display_data",
          "data": {
            "image/png": "[encoded data removed]",
            "text/plain": [
              "<Figure size 432x288 with 1 Axes>"
            ]
          },
          "metadata": {
            "tags": []
          }
        }
      ]
    },
    {
      "cell_type": "code",
      "metadata": {
        "id": "HHOLk3II-uJK",
        "colab_type": "code",
        "colab": {
          "base_uri": "https://localhost:8080/",
          "height": 136
        },
        "outputId": "1ca7a796-caa6-490b-dae3-6df4ba762b22"
      },
      "source": [
        "# use the trained model to predict the correct conversion\n",
        "import math as m\n",
        "c_kg = [5, 10, 12, 35, 50, 67, 100]\n",
        "for i in range(len(c_kg)):\n",
        "  print(\"{} kgs = {:0.2f} lbs\".format(c_kg[i], model.predict([c_kg[i]])[0][0]))"
      ],
      "execution_count": 9,
      "outputs": [
        {
          "output_type": "stream",
          "text": [
            "5 kgs = 11.02 lbs\n",
            "10 kgs = 22.04 lbs\n",
            "12 kgs = 26.44 lbs\n",
            "35 kgs = 77.11 lbs\n",
            "50 kgs = 110.16 lbs\n",
            "67 kgs = 147.61 lbs\n",
            "100 kgs = 220.31 lbs\n"
          ],
          "name": "stdout"
        }
      ]
    }
  ]
}